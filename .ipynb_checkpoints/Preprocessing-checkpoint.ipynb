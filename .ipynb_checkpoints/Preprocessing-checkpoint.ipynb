{
 "cells": [
  {
   "cell_type": "code",
   "execution_count": 13,
   "id": "553f062b-f8e0-4b63-ba70-e5282941ed31",
   "metadata": {},
   "outputs": [],
   "source": [
    "# Import libraries that are required to run your project\n",
    "# You are allowed to add more libraries as you need\n",
    "\n",
    "import pandas as pd\n",
    "import numpy as np\n",
    "from scipy.stats import spearmanr\n",
    "import pyBigWig as pbw\n",
    "from tqdm import tqdm\n",
    "\n"
   ]
  },
  {
   "cell_type": "code",
   "execution_count": 14,
   "id": "f34039e1-09c7-44f4-a30b-fd02cbefff3f",
   "metadata": {},
   "outputs": [],
   "source": [
    "# TODO: \n",
    "# Load your feature (bed and/or bigwig and/or fasta) and target files (tsv) here.\n",
    "# Decide which features to use for training. Feel free to process them however you need.\n",
    "\n",
    "# NOTE: \n",
    "# bed and bigwig files contain signals of all chromosomes (including sex chromosomes).\n",
    "# Training and validation spl£it based on chromosomes has been done for you. \n",
    "# However, you can resplit the data in any way you want.\n",
    "\n",
    "#path_data = \"/path/to/your/data/files\"  # TODO\n",
    "path_data = \"/Users/sidhu/Documents/GENOMICS/GENOMICS/Data/\"\n",
    "path_test = \"/Users/sidhu/Documents/GENOMICS/GENOMICS/Data/CAGE-train/\"   # X3_test_info.tsv ; TODO\n",
    "histone = [\"DNase-bigwig/\", \"H3K4me1-bigwig/\", \"H3K4me3-bigwig/\", \"H3K9me3-bigwig/\", \"H3K27ac-bigwig/\", \"H3K27me3-bigwig/\", \"H3K36me3-bigwig/\"]\n",
    "#test_genes = pd.read_csv(path_test, sep='\\t')\n",
    "# ---------------------------INSERT CODE HERE---------------------------\n",
    "\n",
    "\n",
    "### X1\n",
    "\n",
    "# Training and validation set (with labels)\n",
    "X1_train_info = pd.read_csv(path_test + \"X1_train_info.tsv\", sep= '\\t')\n",
    "X1_train_y = pd.read_csv(path_test + \"X1_train_y.tsv\", sep= '\\t')\n",
    "X1_val_info = pd.read_csv(path_test + \"X1_val_info.tsv\", sep= '\\t')\n",
    "X1_val_y = pd.read_csv(path_test + \"X1_val_y.tsv\", sep= '\\t')\n",
    "\n",
    "\n",
    "## Dataset\n",
    "\n",
    "# DNase\n",
    "Dnase = pbw.open(path_data + str(histone[0]) + str(\"X1.bw\"))\n",
    "\n",
    "# Histones\n",
    "H1 = pbw.open(path_data + str(histone[1]) + str(\"X1.bw\"))\n",
    "H2 = pbw.open(path_data + str(histone[2]) + str(\"X1.bw\"))\n",
    "H3 = pbw.open(path_data + str(histone[3]) + str(\"X1.bw\"))\n",
    "H4 = pbw.open(path_data + str(histone[4]) + str(\"X1.bw\"))\n",
    "H5 = pbw.open(path_data + str(histone[5]) + str(\"X1.bw\"))\n",
    "H6 = pbw.open(path_data + str(histone[6]) + str(\"X1.bw\"))\n",
    "\n",
    "Dataset = [Dnase, H1, H2, H3, H4, H5, H6]\n",
    "\n",
    "# ---------------------------------------------------------------------- "
   ]
  },
  {
   "cell_type": "code",
   "execution_count": 15,
   "id": "ff9c2b6a-6301-48a8-8827-217e8cb813b1",
   "metadata": {},
   "outputs": [],
   "source": [
    "###\n",
    "# DESCP: Extract a 40'000X1 image for CNN\n",
    "# INPUT: Xbw is the tsv file\n",
    "#        bins is the number of pixels we want\n",
    "#        window is how much info around TSS_mid do we want wo capture\n",
    "# OUTPUT: Images contains for each gene one image (bins, 28) with  4 channels (max, min , std, coverage) for each of the 7 datasets\n",
    "\n",
    "def image_creator(Xbw, bins, window=40000):\n",
    "    \n",
    "    Images = np.zeros((Xbw.index[-1]+1, bins, 4*len(Dataset)))\n",
    "    \n",
    "    \n",
    "    for index in tqdm(Xbw.index):\n",
    "        \n",
    "       # Extract all information from the input file\n",
    "        chrom = str(Xbw.loc[index][1])\n",
    "        gene_start = int(Xbw.loc[index][2])\n",
    "        gene_end = int(Xbw.loc[index][3])\n",
    "        TSS_start = int(Xbw.loc[index][4])\n",
    "        TSS_end = int(Xbw.loc[index][5])\n",
    "        strand = Xbw.loc[index][6]\n",
    "        \n",
    "        # Calculate TSS_mid\n",
    "        TSS_mid = int(TSS_start + (TSS_end-TSS_start)/2)\n",
    "        \n",
    "        \n",
    "        # Calculate lenghts of each chromosom \n",
    "        Dnase.chroms(\"chr1\")\n",
    "        \n",
    "        \n",
    "        # Create an image which window large with TSS_mid in the middle\n",
    "        types = [\"max\", \"min\", \"std\", \"coverage\"]\n",
    "\n",
    "        for d, dataset in enumerate(Dataset):\n",
    "            for t, typ in enumerate(types):\n",
    "                if TSS_mid - int(window/2) < 0:\n",
    "                    if TSS_mid + int(window/2) > dataset.chroms(chrom):\n",
    "                        image_l = dataset.stats(chrom, 0, dataset.chroms(chrom), type=typ, nBins=bins)\n",
    "                        Images[index].T[d+t] = np.array(image_l)\n",
    "        \n",
    "    return Images"
   ]
  },
  {
   "cell_type": "code",
   "execution_count": 20,
   "id": "b153e107-0fc1-46c8-9499-f63c70cf486f",
   "metadata": {},
   "outputs": [
    {
     "name": "stderr",
     "output_type": "stream",
     "text": [
      "100%|███████████████████████████████████| 14310/14310 [00:04<00:00, 3375.25it/s]\n"
     ]
    }
   ],
   "source": [
    "# Preprocessed data\n",
    "images = image_creator(X1_train_info, bins=10, window=40000)"
   ]
  },
  {
   "cell_type": "code",
   "execution_count": 22,
   "id": "1404ef99-b84d-4de1-b2cf-33d9c486fdcd",
   "metadata": {},
   "outputs": [
    {
     "data": {
      "text/plain": [
       "(14310, 10, 28)"
      ]
     },
     "execution_count": 22,
     "metadata": {},
     "output_type": "execute_result"
    }
   ],
   "source": [
    "images.shape"
   ]
  },
  {
   "cell_type": "code",
   "execution_count": null,
   "id": "41ef578f-282c-40b6-ac11-4971a5c638cb",
   "metadata": {},
   "outputs": [],
   "source": [
    "# CNN MODEL"
   ]
  }
 ],
 "metadata": {
  "kernelspec": {
   "display_name": "Python 3 (ipykernel)",
   "language": "python",
   "name": "python3"
  },
  "language_info": {
   "codemirror_mode": {
    "name": "ipython",
    "version": 3
   },
   "file_extension": ".py",
   "mimetype": "text/x-python",
   "name": "python",
   "nbconvert_exporter": "python",
   "pygments_lexer": "ipython3",
   "version": "3.8.12"
  }
 },
 "nbformat": 4,
 "nbformat_minor": 5
}
