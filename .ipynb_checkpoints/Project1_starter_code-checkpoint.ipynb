{
 "cells": [
  {
   "cell_type": "code",
   "execution_count": 2,
   "metadata": {},
   "outputs": [],
   "source": [
    "# Import libraries that are required to run your project\n",
    "# You are allowed to add more libraries as you need\n",
    "\n",
    "import pandas as pd\n",
    "import numpy as np\n",
    "from scipy.stats import spearmanr"
   ]
  },
  {
   "cell_type": "markdown",
   "metadata": {},
   "source": [
    "## Work Package 1.1 - Modeling Choices & Data Pre-processing"
   ]
  },
  {
   "cell_type": "code",
   "execution_count": null,
   "metadata": {},
   "outputs": [],
   "source": [
    "# TODO: \n",
    "# Load your feature (bed and/or bigwig and/or fasta) and target files (tsv) here.\n",
    "# Decide which features to use for training. Feel free to process them however you need.\n",
    "\n",
    "# NOTE: \n",
    "# bed and bigwig files contain signals of all chromosomes (including sex chromosomes).\n",
    "# Training and validation split based on chromosomes has been done for you. \n",
    "# However, you can resplit the data in any way you want.\n",
    "\n",
    "#path_data = \"/path/to/your/data/files\"  # TODO\n",
    "path_data = \"/Users/sidhu/Documents/GENOMICS/GENOMICS/Data/\"\n",
    "path_test = \"/path/to/test/info/file\"   # X3_test_info.tsv ; TODO\n",
    "test_genes = pd.read_csv(path_test, sep='\\t')\n",
    "# ---------------------------INSERT CODE HERE---------------------------\n",
    "\n",
    "\n",
    "\n",
    "\n",
    "# ---------------------------------------------------------------------- "
   ]
  },
  {
   "cell_type": "markdown",
   "metadata": {},
   "source": [
    "### 1.1.1 DATASET DESCRIPTION"
   ]
  },
  {
   "cell_type": "code",
   "execution_count": 45,
   "metadata": {},
   "outputs": [],
   "source": [
    "tsv_path = \"/Users/sidhu/Documents/GENOMICS/GENOMICS/Data/CAGE-train/\"\n",
    "X1_train_info = pd.read_csv(tsv_path + \"X1_train_info.tsv\", sep= '\\t')\n",
    "X1_train_y = pd.read_csv(tsv_path + \"X1_train_y.tsv\", sep= '\\t')\n",
    "X1_val_info = pd.read_csv(tsv_path + \"X1_val_info.tsv\", sep= '\\t')\n",
    "X1_val_y = pd.read_csv(tsv_path + \"X1_val_y.tsv\", sep= '\\t')\n",
    "X3_test_info = pd.read_csv(tsv_path + \"X3_test_info.tsv\", sep= '\\t')"
   ]
  },
  {
   "cell_type": "markdown",
   "metadata": {},
   "source": [
    "### CAGE-train folder\n",
    "\n",
    "We are given train_info and labels y for 3 different DNA strands X1, X2 & X3\n",
    "\n",
    "### For X1 and X2\n",
    "\n",
    "#### TRAIN DATA\n",
    "\n",
    "##### train_info: \n",
    "contains the 14'310 entries each containing 7 values:\n",
    "\n",
    "1. gene_name\n",
    "2. chr number: contain all numbers [2, 22] \\ {14, 19}\n",
    "3. gene_start\n",
    "4. gene_end\n",
    "5. TSS_start\n",
    "6. TSS_end\n",
    "7. strand: if + we read from gene_start to gene_end, for - we read from gene_end to gene_start\n",
    "\n",
    "##### train_y: \n",
    "contains also 14'310 entries with the label y representing GEX (gene expression)\n",
    "\n",
    "#### VALIDATION DATA\n",
    "\n",
    "The val_info and val_y follow the same procedure except that they only have 1974 entries and they only contain chromosom 19 & 14\n",
    "\n",
    "### X3\n",
    "\n",
    "For X3 we have 1984 entries again with 7 values given as in train_info except we only have chr 1.\n",
    "\n",
    "\n",
    "## TODO:\n",
    "1. What is difference between gene_starte/end and TSS_start/end.\n",
    "2. What is strand +/- and do we need it?\n",
    "3. You could have potentially multiple TSS in one gene, why not the case in the dataset?\n",
    "\n"
   ]
  },
  {
   "cell_type": "code",
   "execution_count": 75,
   "metadata": {},
   "outputs": [
    {
     "data": {
      "text/plain": [
       "gene_name       SLC20A1\n",
       "chr                chr2\n",
       "gene_start    112645939\n",
       "gene_end      112663825\n",
       "TSS_start     112658362\n",
       "TSS_end       112658412\n",
       "strand                +\n",
       "Name: 0, dtype: object"
      ]
     },
     "execution_count": 75,
     "metadata": {},
     "output_type": "execute_result"
    }
   ],
   "source": [
    "X1_train_info.loc[0]"
   ]
  },
  {
   "cell_type": "code",
   "execution_count": 32,
   "metadata": {},
   "outputs": [
    {
     "data": {
      "text/plain": [
       "gene_name    SLC20A1\n",
       "gex              0.0\n",
       "Name: 0, dtype: object"
      ]
     },
     "execution_count": 32,
     "metadata": {},
     "output_type": "execute_result"
    }
   ],
   "source": [
    "X1_train_y.loc[0]"
   ]
  },
  {
   "cell_type": "code",
   "execution_count": 33,
   "metadata": {},
   "outputs": [
    {
     "data": {
      "text/plain": [
       "gene_name         ECH1\n",
       "chr              chr19\n",
       "gene_start    38815422\n",
       "gene_end      38831841\n",
       "TSS_start     38816220\n",
       "TSS_end       38816270\n",
       "strand               -\n",
       "Name: 0, dtype: object"
      ]
     },
     "execution_count": 33,
     "metadata": {},
     "output_type": "execute_result"
    }
   ],
   "source": [
    "X1_val_info.loc[0]"
   ]
  },
  {
   "cell_type": "code",
   "execution_count": 34,
   "metadata": {},
   "outputs": [
    {
     "data": {
      "text/plain": [
       "gene_name    ECH1\n",
       "gex           0.0\n",
       "Name: 0, dtype: object"
      ]
     },
     "execution_count": 34,
     "metadata": {},
     "output_type": "execute_result"
    }
   ],
   "source": [
    "X1_val_y.loc[0]"
   ]
  },
  {
   "cell_type": "code",
   "execution_count": 49,
   "metadata": {},
   "outputs": [
    {
     "data": {
      "text/plain": [
       "gene_name         CAPN9\n",
       "chr                chr1\n",
       "gene_start    230747384\n",
       "gene_end      230802003\n",
       "TSS_start     230791876\n",
       "TSS_end       230791926\n",
       "strand                +\n",
       "Name: 0, dtype: object"
      ]
     },
     "execution_count": 49,
     "metadata": {},
     "output_type": "execute_result"
    }
   ],
   "source": [
    "X3_test_info.loc[0]"
   ]
  },
  {
   "cell_type": "markdown",
   "metadata": {},
   "source": [
    "## DNase-bed Folder\n",
    "\n",
    "This is our chromatin accessibility dataset.\n",
    "\n",
    "\n",
    "The Dnase Folder has 3 Files X1.bed, X2.bed and X3.bed\n",
    "\n",
    "The X1.bed has 56'451 entries with 10 values each\n",
    "X2.bed has 181'145\n",
    "X3.bed has 71'811\n",
    "\n",
    "We have genderchromosome chrX and chrY also included in this data.\n",
    "\n",
    "\n",
    "1. chromosom name\n",
    "2. gene_start/TSS_start\n",
    "3. gene_end/TSS_end\n",
    "4. unknown\n",
    "5. unknown\n",
    "6. unknown\n",
    "7. unknown\n",
    "8. unknown\n",
    "9. unknown\n",
    "10. unknown\n",
    "\n",
    "## TODO:\n",
    "\n",
    "1. Determine what these unknown values are\n",
    "2. Do we need the gender chromosome chrX and chrY\n",
    "\n"
   ]
  },
  {
   "cell_type": "code",
   "execution_count": 85,
   "metadata": {},
   "outputs": [],
   "source": [
    "Dnase_bed_path = \"/Users/sidhu/Documents/GENOMICS/GENOMICS/Data/DNase-bed/\"\n",
    "X1_dnase = pd.read_csv(Dnase_bed_path + \"X1.bed\", sep= '\\t')\n",
    "X2_dnase = pd.read_csv(Dnase_bed_path + \"X2.bed\", sep= '\\t')\n",
    "X3_dnase = pd.read_csv(Dnase_bed_path + \"X3.bed\", sep= '\\t')"
   ]
  },
  {
   "cell_type": "code",
   "execution_count": 87,
   "metadata": {},
   "outputs": [
    {
     "data": {
      "text/plain": [
       "chr1                       chr1\n",
       "181405                   267990\n",
       "181555                   268140\n",
       ".                             .\n",
       "0                             0\n",
       "..1                           .\n",
       "12.379542683931337    12.379543\n",
       "-1                           -1\n",
       "-1.1                         -1\n",
       "75                           75\n",
       "Name: 0, dtype: object"
      ]
     },
     "execution_count": 87,
     "metadata": {},
     "output_type": "execute_result"
    }
   ],
   "source": [
    "X1_dnase.loc[0]"
   ]
  },
  {
   "cell_type": "markdown",
   "metadata": {},
   "source": [
    "## H3* Folders\n",
    "\n",
    "These are our Histone marks dataset\n",
    "\n",
    "We have 6 .bed folder for different histones. In particular we have H3K4me1, H3K4me3, H3K9me3, H3K27ac, H3K27me3 & H3K36me3\n",
    "\n",
    "H3K4me1 and H3K27ac are listed as active enhancers!\n",
    "\n",
    "![alt text](histone.png \"Title\")\n",
    "\n",
    "All the files have 3 .bed files for X1, X2 & X3 and are built the same for the expection of #entries\n",
    "\n",
    "Example: H3k37ac.bed --> X1.bed\n",
    "\n",
    "\n",
    "The X1_K27ac has 57'886, X2_K27ac has 76092, X3_K27ac has 54'473 entries each containing 10 values\n",
    "\n",
    "1. chromosom name\n",
    "2. gene_start/TSS_start\n",
    "3. gene_end/TSS_end\n",
    "4. Peak number\n",
    "5. unknown\n",
    "6. unknown\n",
    "7. unknown\n",
    "8. unknown\n",
    "9. unknown\n",
    "10. unknown\n"
   ]
  },
  {
   "cell_type": "code",
   "execution_count": 77,
   "metadata": {},
   "outputs": [],
   "source": [
    "H3K27ac_bed_path = \"/Users/sidhu/Documents/GENOMICS/GENOMICS/Data/H3K27ac-bed/\"\n",
    "X1_K27ac = pd.read_csv(H3K27ac_bed_path + \"X1.bed\", sep= '\\t')\n",
    "X2_K27ac = pd.read_csv(H3K27ac_bed_path + \"X2.bed\", sep= '\\t')\n",
    "X3_K27ac = pd.read_csv(H3K27ac_bed_path + \"X3.bed\", sep= '\\t')"
   ]
  },
  {
   "cell_type": "code",
   "execution_count": 88,
   "metadata": {},
   "outputs": [
    {
     "data": {
      "text/plain": [
       "chr10                      chr10\n",
       "100001756              100002161\n",
       "100002056              100002452\n",
       "Peak_52027            Peak_53113\n",
       "16                            16\n",
       ".                              .\n",
       "4.0293549562682225      3.971164\n",
       "5.54052                  5.44367\n",
       "3.67548                  3.58673\n",
       "139                          126\n",
       "Name: 0, dtype: object"
      ]
     },
     "execution_count": 88,
     "metadata": {},
     "output_type": "execute_result"
    }
   ],
   "source": [
    "X3_K27ac.loc[0]"
   ]
  },
  {
   "cell_type": "code",
   "execution_count": 83,
   "metadata": {},
   "outputs": [],
   "source": [
    "H3K27me3_bed_path = \"/Users/sidhu/Documents/GENOMICS/GENOMICS/Data/H3K27me3-bed/\"\n",
    "X1_K27me3 = pd.read_csv(H3K27me3_bed_path + \"X1.bed\", sep= '\\t')\n",
    "X2_K27me3 = pd.read_csv(H3K27me3_bed_path + \"X2.bed\", sep= '\\t')\n",
    "X3_K27me3 = pd.read_csv(H3K27me3_bed_path + \"X3.bed\", sep= '\\t')"
   ]
  },
  {
   "cell_type": "code",
   "execution_count": 84,
   "metadata": {},
   "outputs": [
    {
     "data": {
      "text/html": [
       "<div>\n",
       "<style scoped>\n",
       "    .dataframe tbody tr th:only-of-type {\n",
       "        vertical-align: middle;\n",
       "    }\n",
       "\n",
       "    .dataframe tbody tr th {\n",
       "        vertical-align: top;\n",
       "    }\n",
       "\n",
       "    .dataframe thead th {\n",
       "        text-align: right;\n",
       "    }\n",
       "</style>\n",
       "<table border=\"1\" class=\"dataframe\">\n",
       "  <thead>\n",
       "    <tr style=\"text-align: right;\">\n",
       "      <th></th>\n",
       "      <th>chr10</th>\n",
       "      <th>100100915</th>\n",
       "      <th>100101123</th>\n",
       "      <th>Peak_17277</th>\n",
       "      <th>107</th>\n",
       "      <th>.</th>\n",
       "      <th>31.155124653739612</th>\n",
       "      <th>4.07966</th>\n",
       "      <th>0.66916</th>\n",
       "      <th>75</th>\n",
       "    </tr>\n",
       "  </thead>\n",
       "  <tbody>\n",
       "    <tr>\n",
       "      <th>0</th>\n",
       "      <td>chr10</td>\n",
       "      <td>100140031</td>\n",
       "      <td>100140219</td>\n",
       "      <td>Peak_14127</td>\n",
       "      <td>127</td>\n",
       "      <td>.</td>\n",
       "      <td>34.003416</td>\n",
       "      <td>4.41054</td>\n",
       "      <td>0.88574</td>\n",
       "      <td>77</td>\n",
       "    </tr>\n",
       "    <tr>\n",
       "      <th>1</th>\n",
       "      <td>chr10</td>\n",
       "      <td>100566712</td>\n",
       "      <td>100566879</td>\n",
       "      <td>Peak_36184</td>\n",
       "      <td>53</td>\n",
       "      <td>.</td>\n",
       "      <td>25.393536</td>\n",
       "      <td>2.92767</td>\n",
       "      <td>0.12659</td>\n",
       "      <td>59</td>\n",
       "    </tr>\n",
       "    <tr>\n",
       "      <th>2</th>\n",
       "      <td>chr10</td>\n",
       "      <td>100567356</td>\n",
       "      <td>100567545</td>\n",
       "      <td>Peak_13190</td>\n",
       "      <td>131</td>\n",
       "      <td>.</td>\n",
       "      <td>36.565097</td>\n",
       "      <td>4.54974</td>\n",
       "      <td>0.98555</td>\n",
       "      <td>101</td>\n",
       "    </tr>\n",
       "    <tr>\n",
       "      <th>3</th>\n",
       "      <td>chr10</td>\n",
       "      <td>100570317</td>\n",
       "      <td>100570551</td>\n",
       "      <td>Peak_29275</td>\n",
       "      <td>68</td>\n",
       "      <td>.</td>\n",
       "      <td>28.896399</td>\n",
       "      <td>3.22608</td>\n",
       "      <td>0.25694</td>\n",
       "      <td>216</td>\n",
       "    </tr>\n",
       "    <tr>\n",
       "      <th>4</th>\n",
       "      <td>chr10</td>\n",
       "      <td>100571000</td>\n",
       "      <td>100571280</td>\n",
       "      <td>Peak_3317</td>\n",
       "      <td>205</td>\n",
       "      <td>.</td>\n",
       "      <td>44.566205</td>\n",
       "      <td>6.02366</td>\n",
       "      <td>1.73814</td>\n",
       "      <td>235</td>\n",
       "    </tr>\n",
       "    <tr>\n",
       "      <th>...</th>\n",
       "      <td>...</td>\n",
       "      <td>...</td>\n",
       "      <td>...</td>\n",
       "      <td>...</td>\n",
       "      <td>...</td>\n",
       "      <td>...</td>\n",
       "      <td>...</td>\n",
       "      <td>...</td>\n",
       "      <td>...</td>\n",
       "      <td>...</td>\n",
       "    </tr>\n",
       "    <tr>\n",
       "      <th>26894</th>\n",
       "      <td>chrX</td>\n",
       "      <td>74423063</td>\n",
       "      <td>74423242</td>\n",
       "      <td>Peak_24560</td>\n",
       "      <td>88</td>\n",
       "      <td>.</td>\n",
       "      <td>32.981163</td>\n",
       "      <td>3.68802</td>\n",
       "      <td>0.42361</td>\n",
       "      <td>43</td>\n",
       "    </tr>\n",
       "    <tr>\n",
       "      <th>26895</th>\n",
       "      <td>chrX</td>\n",
       "      <td>8731525</td>\n",
       "      <td>8731685</td>\n",
       "      <td>Peak_24561</td>\n",
       "      <td>88</td>\n",
       "      <td>.</td>\n",
       "      <td>32.981163</td>\n",
       "      <td>3.68802</td>\n",
       "      <td>0.42361</td>\n",
       "      <td>47</td>\n",
       "    </tr>\n",
       "    <tr>\n",
       "      <th>26896</th>\n",
       "      <td>chrX</td>\n",
       "      <td>8880394</td>\n",
       "      <td>8880658</td>\n",
       "      <td>Peak_5203</td>\n",
       "      <td>195</td>\n",
       "      <td>.</td>\n",
       "      <td>41.900185</td>\n",
       "      <td>5.88995</td>\n",
       "      <td>1.70396</td>\n",
       "      <td>100</td>\n",
       "    </tr>\n",
       "    <tr>\n",
       "      <th>26897</th>\n",
       "      <td>chrX</td>\n",
       "      <td>9788557</td>\n",
       "      <td>9788731</td>\n",
       "      <td>Peak_20095</td>\n",
       "      <td>107</td>\n",
       "      <td>.</td>\n",
       "      <td>33.413850</td>\n",
       "      <td>4.07966</td>\n",
       "      <td>0.66916</td>\n",
       "      <td>83</td>\n",
       "    </tr>\n",
       "    <tr>\n",
       "      <th>26898</th>\n",
       "      <td>chrX</td>\n",
       "      <td>9880132</td>\n",
       "      <td>9880341</td>\n",
       "      <td>Peak_33113</td>\n",
       "      <td>68</td>\n",
       "      <td>.</td>\n",
       "      <td>26.637581</td>\n",
       "      <td>3.22608</td>\n",
       "      <td>0.25694</td>\n",
       "      <td>97</td>\n",
       "    </tr>\n",
       "  </tbody>\n",
       "</table>\n",
       "<p>26899 rows × 10 columns</p>\n",
       "</div>"
      ],
      "text/plain": [
       "       chr10  100100915  100101123  Peak_17277  107  .  31.155124653739612  \\\n",
       "0      chr10  100140031  100140219  Peak_14127  127  .           34.003416   \n",
       "1      chr10  100566712  100566879  Peak_36184   53  .           25.393536   \n",
       "2      chr10  100567356  100567545  Peak_13190  131  .           36.565097   \n",
       "3      chr10  100570317  100570551  Peak_29275   68  .           28.896399   \n",
       "4      chr10  100571000  100571280   Peak_3317  205  .           44.566205   \n",
       "...      ...        ...        ...         ...  ... ..                 ...   \n",
       "26894   chrX   74423063   74423242  Peak_24560   88  .           32.981163   \n",
       "26895   chrX    8731525    8731685  Peak_24561   88  .           32.981163   \n",
       "26896   chrX    8880394    8880658   Peak_5203  195  .           41.900185   \n",
       "26897   chrX    9788557    9788731  Peak_20095  107  .           33.413850   \n",
       "26898   chrX    9880132    9880341  Peak_33113   68  .           26.637581   \n",
       "\n",
       "       4.07966  0.66916   75  \n",
       "0      4.41054  0.88574   77  \n",
       "1      2.92767  0.12659   59  \n",
       "2      4.54974  0.98555  101  \n",
       "3      3.22608  0.25694  216  \n",
       "4      6.02366  1.73814  235  \n",
       "...        ...      ...  ...  \n",
       "26894  3.68802  0.42361   43  \n",
       "26895  3.68802  0.42361   47  \n",
       "26896  5.88995  1.70396  100  \n",
       "26897  4.07966  0.66916   83  \n",
       "26898  3.22608  0.25694   97  \n",
       "\n",
       "[26899 rows x 10 columns]"
      ]
     },
     "execution_count": 84,
     "metadata": {},
     "output_type": "execute_result"
    }
   ],
   "source": [
    "X1_K27me3"
   ]
  },
  {
   "cell_type": "markdown",
   "metadata": {},
   "source": [
    "## Work Package 1.2 - Model Building"
   ]
  },
  {
   "cell_type": "code",
   "execution_count": null,
   "metadata": {},
   "outputs": [],
   "source": [
    "# TODO: \n",
    "# Select the best model to predict gene expression from the obtained features in WP 1.1.\n",
    "\n",
    "# ---------------------------INSERT CODE HERE---------------------------\n",
    "\n",
    "\n",
    "\n",
    "\n",
    "# ----------------------------------------------------------------------\n"
   ]
  },
  {
   "cell_type": "markdown",
   "metadata": {},
   "source": [
    "## Work Package 1.3 - Prediction on Test Data (Evaluation Metric)"
   ]
  },
  {
   "cell_type": "code",
   "execution_count": null,
   "metadata": {},
   "outputs": [],
   "source": [
    "# TODO:\n",
    "# Using the model trained in WP 1.2, make predictions on the test data (chr 1 of cell line X3).\n",
    "# Store predictions in a variable called \"pred\" which is a numpy array.\n",
    "\n",
    "pred = None\n",
    "# ---------------------------INSERT CODE HERE---------------------------\n",
    "\n",
    "\n",
    "\n",
    "\n",
    "# ----------------------------------------------------------------------\n",
    "\n",
    "# Check if \"pred\" meets the specified constrains\n",
    "assert isinstance(pred, np.ndarray), 'Prediction array must be a numpy array'\n",
    "assert np.issubdtype(pred.dtype, np.number), 'Prediction array must be numeric'\n",
    "assert pred.shape[0] == len(test_genes), 'Each gene should have a unique predicted expression'"
   ]
  },
  {
   "cell_type": "markdown",
   "metadata": {},
   "source": [
    "#### Store Predictions in the Required Format"
   ]
  },
  {
   "cell_type": "code",
   "execution_count": null,
   "metadata": {},
   "outputs": [],
   "source": [
    "# Store predictions in a ZIP. \n",
    "# Upload this zip on the project website under \"Your submission\".\n",
    "# Zip this notebook along with the conda environment (and README, optional) and upload this under \"Your code\".\n",
    "\n",
    "save_dir = 'path/to/save/output/file'  # TODO\n",
    "file_name = 'gex_predicted.csv'         # PLEASE DO NOT CHANGE THIS\n",
    "zip_name = \"LastName_FirstName_Project1.zip\" # TODO\n",
    "save_path = f'{save_dir}/{zip_name}'\n",
    "compression_options = dict(method=\"zip\", archive_name=file_name)\n",
    "\n",
    "test_genes['gex_predicted'] = pred.tolist()\n",
    "test_genes[['gene_name', 'gex_predicted']].to_csv(save_path, compression=compression_options)"
   ]
  }
 ],
 "metadata": {
  "kernelspec": {
   "display_name": "Python 3 (ipykernel)",
   "language": "python",
   "name": "python3"
  },
  "language_info": {
   "codemirror_mode": {
    "name": "ipython",
    "version": 3
   },
   "file_extension": ".py",
   "mimetype": "text/x-python",
   "name": "python",
   "nbconvert_exporter": "python",
   "pygments_lexer": "ipython3",
   "version": "3.8.12"
  }
 },
 "nbformat": 4,
 "nbformat_minor": 4
}
