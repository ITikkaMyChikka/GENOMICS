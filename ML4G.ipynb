{
 "cells": [
  {
   "cell_type": "code",
   "execution_count": 51,
   "id": "2b120da8",
   "metadata": {},
   "outputs": [],
   "source": [
    "import numpy as np\n",
    "import pandas as pd\n",
    "import matplotlib.pyplot as plt\n",
    "\n",
    "from sklearn.metrics import mean_squared_error, r2_score\n",
    "from sklearn.linear_model import LinearRegression\n",
    "from scipy.stats import spearmanr"
   ]
  },
  {
   "cell_type": "code",
   "execution_count": 52,
   "id": "31032ce7",
   "metadata": {},
   "outputs": [],
   "source": [
    "    \n",
    "#path = \"./Data/CAGE-train/\"\n",
    "path = '/Users/nidhiagrawal/Desktop/Assignments/2nd Semester/ML in Genomics/Project 1/Data/CAGE-train/'\n",
    "\n",
    "X1_train = pd.read_csv(path + \"X1_train_info.tsv\", sep= '\\t')\n",
    "X1_train_y = pd.read_csv(path + \"X1_train_y.tsv\", sep= '\\t')\n",
    "\n",
    "X1_val = pd.read_csv(path + \"X1_val_info.tsv\", sep= '\\t')\n",
    "X1_val_y = pd.read_csv(path + \"X1_val_y.tsv\", sep= '\\t')\n",
    "\n",
    "X2_train = pd.read_csv(path + \"X2_train_info.tsv\", sep= '\\t')\n",
    "X2_train_y = pd.read_csv(path + \"X2_train_y.tsv\", sep= '\\t')\n",
    "\n",
    "X2_val = pd.read_csv(path + \"X2_val_info.tsv\", sep= '\\t')\n",
    "X2_val_y = pd.read_csv(path + \"X2_val_y.tsv\", sep= '\\t')\n",
    "\n",
    "X3_test = pd.read_csv(path + \"X3_test_info.tsv\", sep= '\\t')\n",
    "\n"
   ]
  },
  {
   "cell_type": "code",
   "execution_count": 53,
   "id": "b65507c4",
   "metadata": {},
   "outputs": [],
   "source": [
    "\n",
    "# get all .bed datasets in a dictionary\n",
    "df_DNase_histones = {'DNase':[], 'H3K4me1':[], 'H3K4me3':[], 'H3K27ac':[], 'H3K27me3':[], 'H3K36me3':[]}\n",
    "for name, df_cell_list in df_DNase_histones.items():\n",
    "    path = './Data/'+name+'-bed/'\n",
    "    for i in range(1,4):\n",
    "        X = pd.read_csv(path + 'X' + str(i) + \".bed\", sep= '\\t')\n",
    "        X.columns = ['chr', 'start','end', 'name','display_score','strand','signal_value',\n",
    "                                  'pValue','qValue','peak']\n",
    "        df_cell_list.append(X)\n"
   ]
  },
  {
   "cell_type": "code",
   "execution_count": 54,
   "id": "e7400979",
   "metadata": {},
   "outputs": [],
   "source": [
    "    \n",
    "\n",
    "def window_peaks_data(window_data_df, df_DNase_histones, cell_line_num):\n",
    "    \n",
    "    maxSignalVal_list = []\n",
    "    \n",
    "    for name, df_list in df_DNase_histones.items():\n",
    "    \n",
    "        df = df_list[cell_line_num-1] # cell line's DNase or histone data\n",
    "        \n",
    "        if name == 'H3K36me3':\n",
    "                peak_data = df.loc[(df['chr'] == window_data_df['chr']) & \n",
    "                                      (df['start'] >= window_data_df['gene_start']) & \n",
    "                                      (df['end'] <= window_data_df['gene_end'])]\n",
    "        else:\n",
    "            peak_data = df.loc[(df['chr'] == window_data_df['chr']) & \n",
    "                                  (df['start'] >= window_data_df['window_start']) & \n",
    "                                  (df['end'] <= window_data_df['window_end'])]\n",
    "        if len(peak_data) == 0:\n",
    "            maxSignalVal = 1e-4\n",
    "        else:\n",
    "            # get row from .bed file with max signal value\n",
    "            peak_data_max = peak_data.loc[peak_data['signal_value'].idxmax()]\n",
    "            maxSignalVal = peak_data_max['signal_value']\n",
    "\n",
    "        maxSignalVal_list.append(maxSignalVal)\n",
    "\n",
    "    return maxSignalVal_list\n",
    "\n",
    "    \n",
    "def getMaxSignalData(X_train, df_DNase_histones, window_size, cell_line_num):\n",
    "\n",
    "    window_data_df = pd.DataFrame(X_train[['gene_name', 'chr', 'gene_start', 'gene_end', 'TSS_start']])\n",
    "    window_data_df['window_start'] = X_train['TSS_start']-window_size\n",
    "    window_data_df['window_end'] = X_train['TSS_start']+window_size\n",
    "\n",
    "\n",
    "    maxSignalVal_list = window_data_df.apply(window_peaks_data, args=[df_DNase_histones, cell_line_num], axis=1)\n",
    "\n",
    "    # process maxSignalVal_list to see data in dataframe\n",
    "    maxSignalVal_df = pd.DataFrame(maxSignalVal_list)\n",
    "    maxSignalVal_df = maxSignalVal_df[0].apply(pd.Series)\n",
    "    maxSignalVal_df.columns = ['DNase','H3K4me1','H3K4me3','H3K27ac','H3K27me3','H3K36me3']\n",
    "    \n",
    "    return maxSignalVal_df\n"
   ]
  },
  {
   "cell_type": "code",
   "execution_count": 55,
   "id": "1a7a23f4",
   "metadata": {},
   "outputs": [],
   "source": [
    "\n",
    "# Generate datasets to be used for training model\n",
    "\n",
    "# window_size = Num of kb region to scan around TSS\n",
    "\n",
    "# X1 Train dataset\n",
    "maxSignalVal_X1_train = getMaxSignalData(X1_train, df_DNase_histones, window_size=3500, cell_line_num=1)\n",
    "x1_train = maxSignalVal_X1_train.values\n",
    "y1_train = X1_train_y['gex'].values\n",
    "maxSignalVal_X1_train.insert(0, 'gene_name', X1_train['gene_name'])\n",
    "maxSignalVal_X1_train.insert(7, 'gene_exp', X1_train_y['gex'])\n",
    "maxSignalVal_X1_train.to_csv('X1_train_window3500.csv')\n",
    "\n",
    "# X1 Validation dataset\n",
    "maxSignalVal_X1_val = getMaxSignalData(X1_val, df_DNase_histones, window_size=3500, cell_line_num=1)\n",
    "x1_val = maxSignalVal_X1_val.values\n",
    "y1_val = X1_val_y['gex'].values\n",
    "maxSignalVal_X1_val.insert(0, 'gene_name', X1_val['gene_name'])\n",
    "maxSignalVal_X1_val.insert(7, 'gene_exp', X1_val_y['gex'])\n",
    "maxSignalVal_X1_val.to_csv('X1_val_window3500.csv')\n",
    "\n",
    "# X2 Train dataset\n",
    "maxSignalVal_X2_train = getMaxSignalData(X2_train, df_DNase_histones, window_size=3500, cell_line_num=2)\n",
    "x2_train = maxSignalVal_X2_train.values\n",
    "y2_train = X2_train_y['gex'].values\n",
    "maxSignalVal_X2_train.insert(0, 'gene_name', X2_train['gene_name'])\n",
    "maxSignalVal_X2_train.insert(7, 'gene_exp', X2_train_y['gex'])\n",
    "maxSignalVal_X2_train.to_csv('X2_train_window3500.csv')\n",
    "\n",
    "# X2 Validation dataset\n",
    "maxSignalVal_X2_val = getMaxSignalData(X2_val, df_DNase_histones, window_size=3500, cell_line_num=2)\n",
    "x2_val = maxSignalVal_X2_val.values\n",
    "y2_val = X2_val_y['gex'].values\n",
    "maxSignalVal_X2_val.insert(0, 'gene_name', X2_val['gene_name'])\n",
    "maxSignalVal_X2_val.insert(7, 'gene_exp', X2_val_y['gex'])\n",
    "maxSignalVal_X2_val.to_csv('X2_val_window3500.csv')\n",
    "\n",
    "# X3 Test dataset\n",
    "x3_test = getMaxSignalData(X3_test, df_DNase_histones, window_size=3500, cell_line_num=3)\n",
    "x3_test.to_csv('X3_test_window3500.csv')\n",
    "\n"
   ]
  },
  {
   "cell_type": "markdown",
   "id": "5df95b67",
   "metadata": {},
   "source": [
    "# Linear Regression"
   ]
  },
  {
   "cell_type": "code",
   "execution_count": 59,
   "id": "f52efe5c",
   "metadata": {},
   "outputs": [
    {
     "name": "stdout",
     "output_type": "stream",
     "text": [
      "X1 Val:  SpearmanrResult(correlation=0.6793704899984753, pvalue=2.1675905276751324e-267)\n",
      "X2 Val:  SpearmanrResult(correlation=0.6189132103533664, pvalue=4.430419814971816e-209)\n"
     ]
    }
   ],
   "source": [
    "y1_train = X1_train_y['gex'].values\n",
    "y2_train = X2_train_y['gex'].values\n",
    "\n",
    "# X1 cell line\n",
    "reg = LinearRegression().fit(x1_train, y1_train)\n",
    "y1_pred = reg.predict(x1_val)\n",
    "print('X1 Val: ', spearmanr(y1_val, y1_pred))\n",
    "\n",
    "# X2 cell line\n",
    "reg = LinearRegression().fit(x2_train, y2_train)\n",
    "y2_pred = reg.predict(x2_val)\n",
    "print('X2 Val: ', spearmanr(y2_val, y2_pred))\n"
   ]
  },
  {
   "cell_type": "code",
   "execution_count": 75,
   "id": "875d9026",
   "metadata": {},
   "outputs": [
    {
     "name": "stdout",
     "output_type": "stream",
     "text": [
      "X Val:  SpearmanrResult(correlation=0.6561773202356411, pvalue=0.0)\n"
     ]
    }
   ],
   "source": [
    "\n",
    "# X1 + X2 cell lines\n",
    "x_train = np.concatenate((x1_train, x2_train), axis=0)\n",
    "y_train = np.concatenate((y1_train, y2_train), axis=0)\n",
    "x_val = np.concatenate((x1_val, x2_val), axis=0)\n",
    "y_val = np.concatenate((y1_val, y2_val), axis=0)\n",
    "\n",
    "reg = LinearRegression().fit(x_train, y_train)\n",
    "y_pred = reg.predict(x_val)\n",
    "print('X Val: ', spearmanr(y_val, y_pred))\n"
   ]
  },
  {
   "cell_type": "code",
   "execution_count": null,
   "id": "f3482a40",
   "metadata": {},
   "outputs": [],
   "source": []
  },
  {
   "cell_type": "markdown",
   "id": "ee23a82c",
   "metadata": {},
   "source": [
    "### Notes:\n",
    "\n",
    "1. H3K36me3 is present in gene body and may not be near TSS - from gene C11orf58\n",
    "2. H3K27me3 is a repressor\n",
    "3. Others are enhancers \n",
    "4. Not using H3K9me3 as it's not normalized\n",
    "5. Density plots in tutorial +- 5 kb so tried that\n",
    "6. Tried diff window sizes, 3500 worked well\n",
    "7. Tried Poly Linear regression but it didn't work well\n"
   ]
  },
  {
   "cell_type": "code",
   "execution_count": null,
   "id": "0b07e162",
   "metadata": {},
   "outputs": [],
   "source": []
  },
  {
   "cell_type": "code",
   "execution_count": null,
   "id": "154b9e39",
   "metadata": {},
   "outputs": [],
   "source": []
  },
  {
   "attachments": {},
   "cell_type": "markdown",
   "id": "cc7f75b4",
   "metadata": {},
   "source": [
    "# Polynomial Linear regression"
   ]
  },
  {
   "cell_type": "code",
   "execution_count": 74,
   "id": "248a79ce",
   "metadata": {},
   "outputs": [
    {
     "data": {
      "text/plain": [
       "SpearmanrResult(correlation=0.6386043235746472, pvalue=0.0)"
      ]
     },
     "execution_count": 74,
     "metadata": {},
     "output_type": "execute_result"
    }
   ],
   "source": [
    "from sklearn.preprocessing import PolynomialFeatures\n",
    "\n",
    "poly = PolynomialFeatures(degree = 2)\n",
    "X_train_poly = poly.fit_transform(x_train)\n",
    "\n",
    "poly.fit(X_train_poly, y_train)\n",
    "lin2 = LinearRegression()\n",
    "lin2.fit(X_train_poly, y_train)\n",
    "\n",
    "X_val_poly = poly.fit_transform(x_val)\n",
    "y_pred = lin2.predict(X_val_poly)\n",
    "\n",
    "spearmanr(y_val, y_pred)\n"
   ]
  },
  {
   "cell_type": "code",
   "execution_count": null,
   "id": "1296b630",
   "metadata": {},
   "outputs": [],
   "source": []
  }
 ],
 "metadata": {
  "kernelspec": {
   "display_name": "Python 3.9 (tensorflow)",
   "language": "python",
   "name": "tensorflow"
  },
  "language_info": {
   "codemirror_mode": {
    "name": "ipython",
    "version": 3
   },
   "file_extension": ".py",
   "mimetype": "text/x-python",
   "name": "python",
   "nbconvert_exporter": "python",
   "pygments_lexer": "ipython3",
   "version": "3.9.10"
  }
 },
 "nbformat": 4,
 "nbformat_minor": 5
}
